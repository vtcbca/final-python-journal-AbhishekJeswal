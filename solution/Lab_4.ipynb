{
 "cells": [
  {
   "cell_type": "markdown",
   "id": "838f5458",
   "metadata": {},
   "source": [
    "# importing pandas library"
   ]
  },
  {
   "cell_type": "code",
   "execution_count": 1,
   "id": "69e749ad",
   "metadata": {},
   "outputs": [],
   "source": [
    "import pandas as pd"
   ]
  },
  {
   "cell_type": "markdown",
   "id": "0255b8bd",
   "metadata": {},
   "source": [
    "# 1. Create a list consists of ten names. Use the list to store the list elements in DataFrame. Display the created dataframe."
   ]
  },
  {
   "cell_type": "code",
   "execution_count": 2,
   "id": "8a78374f",
   "metadata": {},
   "outputs": [
    {
     "data": {
      "text/html": [
       "<div>\n",
       "<style scoped>\n",
       "    .dataframe tbody tr th:only-of-type {\n",
       "        vertical-align: middle;\n",
       "    }\n",
       "\n",
       "    .dataframe tbody tr th {\n",
       "        vertical-align: top;\n",
       "    }\n",
       "\n",
       "    .dataframe thead th {\n",
       "        text-align: right;\n",
       "    }\n",
       "</style>\n",
       "<table border=\"1\" class=\"dataframe\">\n",
       "  <thead>\n",
       "    <tr style=\"text-align: right;\">\n",
       "      <th></th>\n",
       "      <th>0</th>\n",
       "    </tr>\n",
       "  </thead>\n",
       "  <tbody>\n",
       "    <tr>\n",
       "      <th>0</th>\n",
       "      <td>raj</td>\n",
       "    </tr>\n",
       "    <tr>\n",
       "      <th>1</th>\n",
       "      <td>ravi</td>\n",
       "    </tr>\n",
       "    <tr>\n",
       "      <th>2</th>\n",
       "      <td>abhi</td>\n",
       "    </tr>\n",
       "    <tr>\n",
       "      <th>3</th>\n",
       "      <td>ajay</td>\n",
       "    </tr>\n",
       "    <tr>\n",
       "      <th>4</th>\n",
       "      <td>vishal</td>\n",
       "    </tr>\n",
       "    <tr>\n",
       "      <th>5</th>\n",
       "      <td>sumit</td>\n",
       "    </tr>\n",
       "    <tr>\n",
       "      <th>6</th>\n",
       "      <td>jay</td>\n",
       "    </tr>\n",
       "    <tr>\n",
       "      <th>7</th>\n",
       "      <td>vijay</td>\n",
       "    </tr>\n",
       "    <tr>\n",
       "      <th>8</th>\n",
       "      <td>nil</td>\n",
       "    </tr>\n",
       "    <tr>\n",
       "      <th>9</th>\n",
       "      <td>nitin</td>\n",
       "    </tr>\n",
       "  </tbody>\n",
       "</table>\n",
       "</div>"
      ],
      "text/plain": [
       "        0\n",
       "0     raj\n",
       "1    ravi\n",
       "2    abhi\n",
       "3    ajay\n",
       "4  vishal\n",
       "5   sumit\n",
       "6     jay\n",
       "7   vijay\n",
       "8     nil\n",
       "9   nitin"
      ]
     },
     "execution_count": 2,
     "metadata": {},
     "output_type": "execute_result"
    }
   ],
   "source": [
    "name=['raj','ravi','abhi','ajay','vishal','sumit','jay','vijay','nil','nitin']\n",
    "df=pd.DataFrame(name)\n",
    "df"
   ]
  },
  {
   "cell_type": "markdown",
   "id": "9672f6b8",
   "metadata": {},
   "source": [
    "# 2. Create DataFrame from Dictionary which is consists of lists. Create following dictionary consists of three keys\n",
    "    and each of them contain corresponding list of values. \n",
    "    \n",
    "    d = {'Student’: ['Rutvik', 'Pankti', 'Evaan', 'Dhyan'], \n",
    "            'City': ['Pune', 'Delhi', 'Surat', 'Houston'], \n",
    "            'Age': [22, 16, 5, 13]} \n"
   ]
  },
  {
   "cell_type": "code",
   "execution_count": 5,
   "id": "20a0c705",
   "metadata": {},
   "outputs": [
    {
     "name": "stdout",
     "output_type": "stream",
     "text": [
      "DataFarame created successfully.\n"
     ]
    }
   ],
   "source": [
    "d = {'Student':['Rutvik', 'Pankti', 'Evaan', 'Dhyan'], \n",
    "    'City':['Pune', 'Delhi', 'Surat', 'Houston'], \n",
    "    'Age':[22, 16, 5, 13]} \n",
    "df=pd.DataFrame(d)\n",
    "print('DataFarame created successfully.')"
   ]
  },
  {
   "cell_type": "markdown",
   "id": "8c78d63a",
   "metadata": {},
   "source": [
    "# 3. Store above dictionary in dataframe and display the created dataframe."
   ]
  },
  {
   "cell_type": "code",
   "execution_count": 6,
   "id": "7b55f6fb",
   "metadata": {},
   "outputs": [
    {
     "data": {
      "text/html": [
       "<div>\n",
       "<style scoped>\n",
       "    .dataframe tbody tr th:only-of-type {\n",
       "        vertical-align: middle;\n",
       "    }\n",
       "\n",
       "    .dataframe tbody tr th {\n",
       "        vertical-align: top;\n",
       "    }\n",
       "\n",
       "    .dataframe thead th {\n",
       "        text-align: right;\n",
       "    }\n",
       "</style>\n",
       "<table border=\"1\" class=\"dataframe\">\n",
       "  <thead>\n",
       "    <tr style=\"text-align: right;\">\n",
       "      <th></th>\n",
       "      <th>Student</th>\n",
       "      <th>City</th>\n",
       "      <th>Age</th>\n",
       "    </tr>\n",
       "  </thead>\n",
       "  <tbody>\n",
       "    <tr>\n",
       "      <th>0</th>\n",
       "      <td>Rutvik</td>\n",
       "      <td>Pune</td>\n",
       "      <td>22</td>\n",
       "    </tr>\n",
       "    <tr>\n",
       "      <th>1</th>\n",
       "      <td>Pankti</td>\n",
       "      <td>Delhi</td>\n",
       "      <td>16</td>\n",
       "    </tr>\n",
       "    <tr>\n",
       "      <th>2</th>\n",
       "      <td>Evaan</td>\n",
       "      <td>Surat</td>\n",
       "      <td>5</td>\n",
       "    </tr>\n",
       "    <tr>\n",
       "      <th>3</th>\n",
       "      <td>Dhyan</td>\n",
       "      <td>Houston</td>\n",
       "      <td>13</td>\n",
       "    </tr>\n",
       "  </tbody>\n",
       "</table>\n",
       "</div>"
      ],
      "text/plain": [
       "  Student     City  Age\n",
       "0  Rutvik     Pune   22\n",
       "1  Pankti    Delhi   16\n",
       "2   Evaan    Surat    5\n",
       "3   Dhyan  Houston   13"
      ]
     },
     "execution_count": 6,
     "metadata": {},
     "output_type": "execute_result"
    }
   ],
   "source": [
    "df=pd.DataFrame(d)\n",
    "df"
   ]
  }
 ],
 "metadata": {
  "kernelspec": {
   "display_name": "Python 3 (ipykernel)",
   "language": "python",
   "name": "python3"
  },
  "language_info": {
   "codemirror_mode": {
    "name": "ipython",
    "version": 3
   },
   "file_extension": ".py",
   "mimetype": "text/x-python",
   "name": "python",
   "nbconvert_exporter": "python",
   "pygments_lexer": "ipython3",
   "version": "3.10.2"
  }
 },
 "nbformat": 4,
 "nbformat_minor": 5
}
