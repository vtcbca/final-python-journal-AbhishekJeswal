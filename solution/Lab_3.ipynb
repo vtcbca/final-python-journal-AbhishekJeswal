{
 "cells": [
  {
   "cell_type": "markdown",
   "id": "14fea41f",
   "metadata": {},
   "source": [
    "\n",
    "# importing library"
   ]
  },
  {
   "cell_type": "code",
   "execution_count": 17,
   "id": "44918cfe",
   "metadata": {},
   "outputs": [],
   "source": [
    "import csv\n",
    "import pandas as pd"
   ]
  },
  {
   "cell_type": "markdown",
   "id": "765d17d5",
   "metadata": {},
   "source": [
    "# 1. write 5 records using writer object in file."
   ]
  },
  {
   "cell_type": "code",
   "execution_count": 2,
   "id": "f0921854",
   "metadata": {},
   "outputs": [],
   "source": [
    "def q1():\n",
    "    with open ('salary.csv','w',newline='') as sal:\n",
    "        data=[['Empid','Empname','Department','Experience','salary'],\n",
    "             [1,'RAJ','BCA',4,45000],\n",
    "             [2,'AJAY','BCA',3,40000],\n",
    "             [3,'SUMIT','BBA',2,30000],\n",
    "             [4,'PARTH','MCA',1,34000],\n",
    "             [5,'VISHAL','MBA',3,29000]]\n",
    "        w=csv.writer(sal)\n",
    "        w.writerows(data)\n",
    "    print('data are successfully inserted.')"
   ]
  },
  {
   "cell_type": "markdown",
   "id": "cb555e0c",
   "metadata": {},
   "source": [
    "# 2. read file using reder object and print file in proper format."
   ]
  },
  {
   "cell_type": "code",
   "execution_count": 3,
   "id": "3e4a9e06",
   "metadata": {},
   "outputs": [],
   "source": [
    "def q2():\n",
    "    with open('salary.csv','r',newline='') as sal:\n",
    "        r=csv.reader(sal)\n",
    "        for i in sal:\n",
    "            print(i)"
   ]
  },
  {
   "cell_type": "markdown",
   "id": "93b4e752",
   "metadata": {},
   "source": [
    "# 3. append 2 records into file and display it."
   ]
  },
  {
   "cell_type": "code",
   "execution_count": 4,
   "id": "ea1760f1",
   "metadata": {},
   "outputs": [],
   "source": [
    "def q3():\n",
    "     with open ('salary.csv','a',newline='') as sal:\n",
    "        data=[[6,'Abhi','BCOM',6,65000],\n",
    "             [7,'KEVAL','Bed',4,46000]]\n",
    "        w=csv.writer(sal)\n",
    "        w.writerows(data)\n",
    "        q2()"
   ]
  },
  {
   "cell_type": "markdown",
   "id": "83ea3d24",
   "metadata": {},
   "source": [
    "# 4. read data from file and display it."
   ]
  },
  {
   "cell_type": "code",
   "execution_count": 14,
   "id": "b7646a78",
   "metadata": {},
   "outputs": [],
   "source": [
    "def q4():\n",
    "    with open('salary.csv','r',newline='') as sal:\n",
    "        data=csv.DictReader(sal)\n",
    "        l=[]\n",
    "        s=0\n",
    "        for i in data:\n",
    "            d=i['Department']\n",
    "            if d=='BCA':\n",
    "                s+=int(i['salary'])\n",
    "        print('total salary of BCA Department is : {}'.format(s))"
   ]
  },
  {
   "cell_type": "markdown",
   "id": "ae197bd7",
   "metadata": {},
   "source": [
    "# 5. read file using panada library and display records."
   ]
  },
  {
   "cell_type": "code",
   "execution_count": 7,
   "id": "7e533ada",
   "metadata": {},
   "outputs": [],
   "source": [
    "def q5():\n",
    "    df=pd.read_csv('salary.csv')\n",
    "    print(df)"
   ]
  },
  {
   "cell_type": "code",
   "execution_count": 8,
   "id": "3b3b14e8",
   "metadata": {},
   "outputs": [
    {
     "name": "stdout",
     "output_type": "stream",
     "text": [
      "data are successfully inserted.\n"
     ]
    }
   ],
   "source": [
    "q1()"
   ]
  },
  {
   "cell_type": "code",
   "execution_count": 9,
   "id": "7245a516",
   "metadata": {},
   "outputs": [
    {
     "name": "stdout",
     "output_type": "stream",
     "text": [
      "Empid,Empname,Department,Experience,salary\r\n",
      "\n",
      "1,RAJ,BCA,4,45000\r\n",
      "\n",
      "2,AJAY,BCA,3,40000\r\n",
      "\n",
      "3,SUMIT,BBA,2,30000\r\n",
      "\n",
      "4,PARTH,MCA,1,34000\r\n",
      "\n",
      "5,VISHAL,MBA,3,29000\r\n",
      "\n"
     ]
    }
   ],
   "source": [
    "q2()"
   ]
  },
  {
   "cell_type": "code",
   "execution_count": 10,
   "id": "989752a3",
   "metadata": {},
   "outputs": [
    {
     "name": "stdout",
     "output_type": "stream",
     "text": [
      "Empid,Empname,Department,Experience,salary\r\n",
      "\n",
      "1,RAJ,BCA,4,45000\r\n",
      "\n",
      "2,AJAY,BCA,3,40000\r\n",
      "\n",
      "3,SUMIT,BBA,2,30000\r\n",
      "\n",
      "4,PARTH,MCA,1,34000\r\n",
      "\n",
      "5,VISHAL,MBA,3,29000\r\n",
      "\n"
     ]
    }
   ],
   "source": [
    "q3()"
   ]
  },
  {
   "cell_type": "code",
   "execution_count": 15,
   "id": "712caad0",
   "metadata": {},
   "outputs": [
    {
     "name": "stdout",
     "output_type": "stream",
     "text": [
      "total salary of BCA Department is : 85000\n"
     ]
    }
   ],
   "source": [
    "q4()"
   ]
  },
  {
   "cell_type": "code",
   "execution_count": 16,
   "id": "926359c2",
   "metadata": {},
   "outputs": [
    {
     "name": "stdout",
     "output_type": "stream",
     "text": [
      "   Empid Empname Department  Experience  salary\n",
      "0      1     RAJ        BCA           4   45000\n",
      "1      2    AJAY        BCA           3   40000\n",
      "2      3   SUMIT        BBA           2   30000\n",
      "3      4   PARTH        MCA           1   34000\n",
      "4      5  VISHAL        MBA           3   29000\n",
      "5      6    Abhi       BCOM           6   65000\n",
      "6      7   KEVAL        Bed           4   46000\n"
     ]
    }
   ],
   "source": [
    "q5()"
   ]
  }
 ],
 "metadata": {
  "kernelspec": {
   "display_name": "Python 3 (ipykernel)",
   "language": "python",
   "name": "python3"
  },
  "language_info": {
   "codemirror_mode": {
    "name": "ipython",
    "version": 3
   },
   "file_extension": ".py",
   "mimetype": "text/x-python",
   "name": "python",
   "nbconvert_exporter": "python",
   "pygments_lexer": "ipython3",
   "version": "3.10.2"
  }
 },
 "nbformat": 4,
 "nbformat_minor": 5
}
